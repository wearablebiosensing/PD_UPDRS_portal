{
 "cells": [
  {
   "cell_type": "code",
   "execution_count": null,
   "id": "982f2991",
   "metadata": {},
   "outputs": [],
   "source": [
    "import json\n",
    "import glob\n",
    "import calendar\n",
    "from statistics import mean \n",
    "import statistics\n",
    "from sklearn import preprocessing"
   ]
  },
  {
   "cell_type": "code",
   "execution_count": null,
   "id": "aa9c4a04",
   "metadata": {},
   "outputs": [],
   "source": [
    "import numpy as np \n",
    "import pandas as pd                  # for DataFrames\n",
    "from numpy.linalg import eig\n",
    "import matplotlib.pyplot as plt\n",
    "import plotly.express as px\n",
    "import plotly.graph_objects as go\n",
    "from plotly.offline import init_notebook_mode, iplot\n",
    "from scipy.stats import kurtosis\n",
    "from scipy.stats import skew\n"
   ]
  },
  {
   "cell_type": "code",
   "execution_count": null,
   "id": "08c1763e",
   "metadata": {},
   "outputs": [],
   "source": [
    "import scipy.fftpack                 # discrete Fourier transforms\n",
    "from scipy import signal\n",
    "from scipy.signal import find_peaks\n",
    "from scipy.signal import butter, lfilter\n",
    "from scipy.signal import find_peaks, peak_prominences\n",
    "from scipy.signal import chirp, peak_widths\n"
   ]
  },
  {
   "cell_type": "code",
   "execution_count": null,
   "id": "e27af9ec",
   "metadata": {},
   "outputs": [],
   "source": [
    "import plotly.express as px\n",
    "import plotly.graph_objects as go\n",
    "import plotly.figure_factory as ff\n",
    "from plotly.subplots import make_subplots\n",
    "import os"
   ]
  },
  {
   "cell_type": "code",
   "execution_count": 1,
   "id": "3ee460a2",
   "metadata": {},
   "outputs": [],
   "source": [
    "# Medicaiton Time Coordinaiton"
   ]
  },
  {
   "cell_type": "code",
   "execution_count": null,
   "id": "8baafeb4",
   "metadata": {},
   "outputs": [],
   "source": [
    "root = \"/Users/shehjarsadhu/Desktop/UniversityOfRhodeIsland/Graduate/WBL/Project_IOTEX/iotex-glove/PD/\"\n",
    "# Write all the results outside of the PD data folder.\n",
    "root_results_write = \"/Users/shehjarsadhu/Desktop/UniversityOfRhodeIsland/Graduate/WBL/Project_IOTEX/iotex-glove/\"\n",
    "\n"
   ]
  },
  {
   "cell_type": "code",
   "execution_count": null,
   "id": "718b9027",
   "metadata": {},
   "outputs": [],
   "source": [
    "pno = 2 # Change this from 1-4 to get each participnats file path seperately.\n",
    "dset_csv_fpath = root +'/Participant'+str(pno)+'/**/*.csv'\n",
    "label_text_fpath = root +'/Participant'+str(pno)+'/**/*.txt'\n",
    "csv_files = glob.glob(dset_csv_fpath,recursive=True)\n",
    "rg_files = [s.split(\"/\")[13] for s in csv_files if \"rg_\" in s]\n",
    "lg_files = [s.split(\"/\")[13]  for s in csv_files if \"lg_\" in s]\n",
    "text_files = glob.glob(label_text_fpath,recursive=True)\n",
    "print(\"Text files length and right glove files length\",len(text_files),len(rg_files),len(lg_files))\n",
    "\n"
   ]
  },
  {
   "cell_type": "code",
   "execution_count": null,
   "id": "fae9d64a",
   "metadata": {},
   "outputs": [],
   "source": [
    "# To write only the CSV file name and not the full file path.\n",
    "med_text = []\n",
    "for i in text_files:\n",
    "    med_text.append(i.split(\"/\")[13])\n",
    "    "
   ]
  },
  {
   "cell_type": "code",
   "execution_count": null,
   "id": "dacf811c",
   "metadata": {},
   "outputs": [],
   "source": [
    "# Write results to CSV file after doing that u\n",
    "# Upload the file to google drive and then sort each list from A-Z seperately \n",
    "# then merge them together to get the medstatus files and the exercise filepaths.   \n",
    "df = pd.DataFrame(list(zip(med_text, rg_files, lg_files)))\n",
    "\n",
    "# df.to_csv(\"/Users/shehjarsadhu/Desktop/p2_file_paths.csv\") # Change p2_file_paths.csv file paths to match each participnat number. \n",
    "\n"
   ]
  },
  {
   "cell_type": "code",
   "execution_count": null,
   "id": "1773f581",
   "metadata": {},
   "outputs": [],
   "source": []
  },
  {
   "cell_type": "code",
   "execution_count": null,
   "id": "1a257228",
   "metadata": {},
   "outputs": [],
   "source": []
  }
 ],
 "metadata": {
  "kernelspec": {
   "display_name": "Python 3",
   "language": "python",
   "name": "python3"
  },
  "language_info": {
   "codemirror_mode": {
    "name": "ipython",
    "version": 3
   },
   "file_extension": ".py",
   "mimetype": "text/x-python",
   "name": "python",
   "nbconvert_exporter": "python",
   "pygments_lexer": "ipython3",
   "version": "3.7.9"
  },
  "varInspector": {
   "cols": {
    "lenName": 16,
    "lenType": 16,
    "lenVar": 40
   },
   "kernels_config": {
    "python": {
     "delete_cmd_postfix": "",
     "delete_cmd_prefix": "del ",
     "library": "var_list.py",
     "varRefreshCmd": "print(var_dic_list())"
    },
    "r": {
     "delete_cmd_postfix": ") ",
     "delete_cmd_prefix": "rm(",
     "library": "var_list.r",
     "varRefreshCmd": "cat(var_dic_list()) "
    }
   },
   "types_to_exclude": [
    "module",
    "function",
    "builtin_function_or_method",
    "instance",
    "_Feature"
   ],
   "window_display": false
  }
 },
 "nbformat": 4,
 "nbformat_minor": 5
}
